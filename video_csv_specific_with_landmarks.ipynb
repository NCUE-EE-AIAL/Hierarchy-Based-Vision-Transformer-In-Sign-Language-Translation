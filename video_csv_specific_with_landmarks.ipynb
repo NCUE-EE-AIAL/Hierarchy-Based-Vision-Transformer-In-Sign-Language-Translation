{
 "cells": [
  {
   "cell_type": "code",
   "execution_count": 2,
   "id": "d1157b56-03b1-43eb-b568-01fa23f4c8b7",
   "metadata": {},
   "outputs": [],
   "source": [
    "\n",
    "File Name: video_csv_specific_with_landmarks.ipynb\n",
    "Description: This file contains a simple code for extracting a landmarks from a video and then, it saves the landmark points as csv file at a specified location.\n",
    "\n",
    "Email:potnurupavan51@gmail.com\n",
    "Date: 2024-06-14\n",
    "\n",
    "Project Name: Sign language translation\n",
    "\n",
    "Dependencies:\n",
    "- openCV or cv2  (perferably cv2)(used for capturing the image\\video data and process)\n",
    "- mediapipe(used to extract the landmarks)\n",
    "- csv(to handle the csv type files)\n",
    "-numpy (used for the manipulation of the numerical values)\n",
    "\n",
    "Revision History:\n",
    "- 2024-06-10: Initiation.\n",
    "- 2024-06-14: Added new features and fixed bugs.\n",
    "\n",
    "Usage Instructions:\n",
    "- Run this file using Python 3.x.\n",
    "- Ensure all dependencies are installed."
   ]
  },
  {
   "cell_type": "code",
   "execution_count": null,
   "id": "ec40d03e-ace6-4c2b-9217-21c87b683b49",
   "metadata": {},
   "outputs": [],
   "source": [
    "import cv2\n",
    "import numpy as np\n",
    "import mediapipe as mp\n",
    "import csv\n",
    "\n",
    "# Initialize Mediapipe\n",
    "mp_holistic = mp.solutions.holistic\n",
    "mp_drawing = mp.solutions.drawing_utils\n",
    "\n",
    "def mediapipe_detection(image, model):\n",
    "    image = cv2.cvtColor(image, cv2.COLOR_BGR2RGB)  # COLOR CONVERSION BGR 2 RGB(Refer the guidelines for clarity)\n",
    "    image.flags.writeable = False  # Image is no longer writeable\n",
    "    results = model.process(image)  # Processing of video\n",
    "    image.flags.writeable = True  # Image is now writeable \n",
    "    image = cv2.cvtColor(image, cv2.COLOR_RGB2BGR)  # COLOR COVERSION RGB 2 BGR(Refer the guidelines for clarity)\n",
    "    return image, results\n",
    "\n",
    "def extract_keypoints(results):\n",
    "    # Extract pose landmarks if available\n",
    "    pose = np.array([[res.x, res.y, res.z, res.visibility] for res in results.pose_landmarks.landmark]).flatten() if results.pose_landmarks else np.zeros(33*4)\n",
    "    \n",
    "    # Extract hand landmarks if available\n",
    "    lh = np.array([[res.x, res.y, res.z] for res in results.left_hand_landmarks.landmark]).flatten() if results.left_hand_landmarks else np.zeros(21*3)\n",
    "    rh = np.array([[res.x, res.y, res.z] for res in results.right_hand_landmarks.landmark]).flatten() if results.right_hand_landmarks else np.zeros(21*3)\n",
    "    \n",
    "    # Extract face landmarks if available\n",
    "    if results.face_landmarks:\n",
    "        face_landmarks = results.face_landmarks.landmark\n",
    "        # Indices for mouth, eyes, and nose\n",
    "        mouth_indices = [61, 146, 91, 181, 84, 17, 314, 405, 321, 375, 291]\n",
    "        left_eye_indices = [263, 249, 390, 373, 374, 380, 381, 382, 362]\n",
    "        right_eye_indices = [33, 7, 163, 144, 145, 153, 154, 155, 133]\n",
    "        nose_indices = [1, 2, 98, 327, 168]\n",
    "        relevant_indices = mouth_indices + left_eye_indices + right_eye_indices + nose_indices\n",
    "        face = np.array([[face_landmarks[idx].x, face_landmarks[idx].y, face_landmarks[idx].z] for idx in relevant_indices]).flatten()\n",
    "    else:\n",
    "        face = np.zeros(52*3)\n",
    "    \n",
    "    return np.concatenate([pose, face, lh, rh])\n",
    "\n",
    "# collecting the video\n",
    "cap = cv2.VideoCapture('FAIL.mp4')  #give the video file name\n",
    "\n",
    "# Initialize the holistic model\n",
    "with mp_holistic.Holistic(min_detection_confidence=0.5, min_tracking_confidence=0.5) as holistic:\n",
    "    all_landmarks = []\n",
    "    frame_count = 0\n",
    "\n",
    "    while cap.isOpened():\n",
    "        ret, frame = cap.read()\n",
    "        if not ret:\n",
    "            break\n",
    "\n",
    "        image, results = mediapipe_detection(frame, holistic)\n",
    "        \n",
    "        keypoints = extract_keypoints(results)\n",
    "        all_landmarks.append(keypoints)\n",
    "\n",
    "        frame_count += 1\n",
    "\n",
    "    cap.release()\n",
    "\n",
    "# Convert the list of landmarks to a numpy array\n",
    "all_landmarks = np.array(all_landmarks)\n",
    "\n",
    "# Save the landmarks to a CSV file \n",
    "np.savetxt('video_landmarks.csv', all_landmarks, delimiter=',')\n"
   ]
  },
  {
   "cell_type": "code",
   "execution_count": 4,
   "id": "fd476669-0de1-405d-ab6e-d30c08ce9b73",
   "metadata": {},
   "outputs": [],
   "source": [
    "import pandas as pd # Pandas is used for handling the data manipulation"
   ]
  },
  {
   "cell_type": "code",
   "execution_count": 5,
   "id": "e13efb48-5e87-4994-bd8f-94e4d9419765",
   "metadata": {},
   "outputs": [
    {
     "name": "stdout",
     "output_type": "stream",
     "text": [
      "DataFrame shape: (75, 360)\n"
     ]
    }
   ],
   "source": [
    "# Read the CSV file\n",
    "df = pd.read_csv('video_landmarks.csv')\n",
    "\n",
    "# Print the DataFrame shape (rows, columns)\n",
    "print(\"DataFrame shape:\", df.shape)"
   ]
  },
  {
   "cell_type": "code",
   "execution_count": null,
   "id": "29958db5-69c0-4c46-bdc2-674149679633",
   "metadata": {},
   "outputs": [],
   "source": []
  }
 ],
 "metadata": {
  "kernelspec": {
   "display_name": "Python 3 (ipykernel)",
   "language": "python",
   "name": "python3"
  },
  "language_info": {
   "codemirror_mode": {
    "name": "ipython",
    "version": 3
   },
   "file_extension": ".py",
   "mimetype": "text/x-python",
   "name": "python",
   "nbconvert_exporter": "python",
   "pygments_lexer": "ipython3",
   "version": "3.9.13"
  }
 },
 "nbformat": 4,
 "nbformat_minor": 5
}

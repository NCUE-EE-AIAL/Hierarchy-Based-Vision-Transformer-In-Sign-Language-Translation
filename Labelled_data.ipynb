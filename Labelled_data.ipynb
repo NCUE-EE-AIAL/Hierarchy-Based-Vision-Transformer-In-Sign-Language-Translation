{
 "cells": [
  {
   "cell_type": "code",
   "execution_count": 48,
   "id": "94ee8142-8fb4-4cb6-beed-170e770646cb",
   "metadata": {},
   "outputs": [
    {
     "name": "stdout",
     "output_type": "stream",
     "text": [
      "Defaulting to user installation because normal site-packages is not writeable\n",
      "Requirement already satisfied: pandas in c:\\users\\jayan\\appdata\\roaming\\python\\python311\\site-packages (2.2.2)\n",
      "Requirement already satisfied: numpy>=1.23.2 in c:\\users\\jayan\\appdata\\roaming\\python\\python311\\site-packages (from pandas) (2.0.0)\n",
      "Requirement already satisfied: python-dateutil>=2.8.2 in c:\\users\\jayan\\appdata\\roaming\\python\\python311\\site-packages (from pandas) (2.9.0.post0)\n",
      "Requirement already satisfied: pytz>=2020.1 in c:\\users\\jayan\\appdata\\roaming\\python\\python311\\site-packages (from pandas) (2024.1)\n",
      "Requirement already satisfied: tzdata>=2022.7 in c:\\users\\jayan\\appdata\\roaming\\python\\python311\\site-packages (from pandas) (2024.1)\n",
      "Requirement already satisfied: six>=1.5 in c:\\users\\jayan\\appdata\\roaming\\python\\python311\\site-packages (from python-dateutil>=2.8.2->pandas) (1.16.0)\n"
     ]
    }
   ],
   "source": [
    "!pip install pandas"
   ]
  },
  {
   "cell_type": "code",
   "execution_count": 49,
   "id": "108b51b7-2dca-4f66-a951-6029451ce902",
   "metadata": {},
   "outputs": [],
   "source": [
    "import pandas as pd"
   ]
  },
  {
   "cell_type": "code",
   "execution_count": 50,
   "id": "e6c09fcc-f44c-4ce1-a8d3-25d4802d3fec",
   "metadata": {},
   "outputs": [
    {
     "data": {
      "text/html": [
       "<div>\n",
       "<style scoped>\n",
       "    .dataframe tbody tr th:only-of-type {\n",
       "        vertical-align: middle;\n",
       "    }\n",
       "\n",
       "    .dataframe tbody tr th {\n",
       "        vertical-align: top;\n",
       "    }\n",
       "\n",
       "    .dataframe thead th {\n",
       "        text-align: right;\n",
       "    }\n",
       "</style>\n",
       "<table border=\"1\" class=\"dataframe\">\n",
       "  <thead>\n",
       "    <tr style=\"text-align: right;\">\n",
       "      <th></th>\n",
       "      <th>VIDEO_ID</th>\n",
       "      <th>VIDEO_NAME</th>\n",
       "      <th>SENTENCE_ID</th>\n",
       "      <th>SENTENCE_NAME</th>\n",
       "      <th>START_REALIGNED</th>\n",
       "      <th>END_REALIGNED</th>\n",
       "      <th>SENTENCE</th>\n",
       "    </tr>\n",
       "  </thead>\n",
       "  <tbody>\n",
       "    <tr>\n",
       "      <th>0</th>\n",
       "      <td>-d5dN54tH2E</td>\n",
       "      <td>-d5dN54tH2E-1-rgb_front</td>\n",
       "      <td>-d5dN54tH2E_0</td>\n",
       "      <td>-d5dN54tH2E_0-1-rgb_front</td>\n",
       "      <td>12.97</td>\n",
       "      <td>19.52</td>\n",
       "      <td>We're going to work on a arm drill that will h...</td>\n",
       "    </tr>\n",
       "    <tr>\n",
       "      <th>1</th>\n",
       "      <td>-d5dN54tH2E</td>\n",
       "      <td>-d5dN54tH2E-1-rgb_front</td>\n",
       "      <td>-d5dN54tH2E_1</td>\n",
       "      <td>-d5dN54tH2E_1-1-rgb_front</td>\n",
       "      <td>20.65</td>\n",
       "      <td>24.28</td>\n",
       "      <td>I call it painting the wall.</td>\n",
       "    </tr>\n",
       "    <tr>\n",
       "      <th>2</th>\n",
       "      <td>-d5dN54tH2E</td>\n",
       "      <td>-d5dN54tH2E-1-rgb_front</td>\n",
       "      <td>-d5dN54tH2E_10</td>\n",
       "      <td>-d5dN54tH2E_10-1-rgb_front</td>\n",
       "      <td>85.50</td>\n",
       "      <td>87.83</td>\n",
       "      <td>So we're going to go up and down; let's switch...</td>\n",
       "    </tr>\n",
       "    <tr>\n",
       "      <th>3</th>\n",
       "      <td>-d5dN54tH2E</td>\n",
       "      <td>-d5dN54tH2E-1-rgb_front</td>\n",
       "      <td>-d5dN54tH2E_11</td>\n",
       "      <td>-d5dN54tH2E_11-1-rgb_front</td>\n",
       "      <td>87.84</td>\n",
       "      <td>93.62</td>\n",
       "      <td>And just let those fingers relax.</td>\n",
       "    </tr>\n",
       "    <tr>\n",
       "      <th>4</th>\n",
       "      <td>-d5dN54tH2E</td>\n",
       "      <td>-d5dN54tH2E-1-rgb_front</td>\n",
       "      <td>-d5dN54tH2E_12</td>\n",
       "      <td>-d5dN54tH2E_12-1-rgb_front</td>\n",
       "      <td>94.26</td>\n",
       "      <td>101.39</td>\n",
       "      <td>Now together you're going to go opposite.</td>\n",
       "    </tr>\n",
       "  </tbody>\n",
       "</table>\n",
       "</div>"
      ],
      "text/plain": [
       "      VIDEO_ID               VIDEO_NAME     SENTENCE_ID  \\\n",
       "0  -d5dN54tH2E  -d5dN54tH2E-1-rgb_front   -d5dN54tH2E_0   \n",
       "1  -d5dN54tH2E  -d5dN54tH2E-1-rgb_front   -d5dN54tH2E_1   \n",
       "2  -d5dN54tH2E  -d5dN54tH2E-1-rgb_front  -d5dN54tH2E_10   \n",
       "3  -d5dN54tH2E  -d5dN54tH2E-1-rgb_front  -d5dN54tH2E_11   \n",
       "4  -d5dN54tH2E  -d5dN54tH2E-1-rgb_front  -d5dN54tH2E_12   \n",
       "\n",
       "                SENTENCE_NAME  START_REALIGNED  END_REALIGNED  \\\n",
       "0   -d5dN54tH2E_0-1-rgb_front            12.97          19.52   \n",
       "1   -d5dN54tH2E_1-1-rgb_front            20.65          24.28   \n",
       "2  -d5dN54tH2E_10-1-rgb_front            85.50          87.83   \n",
       "3  -d5dN54tH2E_11-1-rgb_front            87.84          93.62   \n",
       "4  -d5dN54tH2E_12-1-rgb_front            94.26         101.39   \n",
       "\n",
       "                                            SENTENCE  \n",
       "0  We're going to work on a arm drill that will h...  \n",
       "1                       I call it painting the wall.  \n",
       "2  So we're going to go up and down; let's switch...  \n",
       "3                  And just let those fingers relax.  \n",
       "4          Now together you're going to go opposite.  "
      ]
     },
     "execution_count": 50,
     "metadata": {},
     "output_type": "execute_result"
    }
   ],
   "source": [
    "data = pd.read_csv('J:\\Folders\\Downloads\\how2sign_realigned_val - how2sign_realigned_val.csv')\n",
    "data.head()"
   ]
  },
  {
   "cell_type": "code",
   "execution_count": 51,
   "id": "90ae5779-a6bb-4896-84b3-41ac175c50fd",
   "metadata": {},
   "outputs": [
    {
     "data": {
      "text/plain": [
       "Index(['VIDEO_ID', 'VIDEO_NAME', 'SENTENCE_ID', 'SENTENCE_NAME',\n",
       "       'START_REALIGNED', 'END_REALIGNED', 'SENTENCE'],\n",
       "      dtype='object')"
      ]
     },
     "execution_count": 51,
     "metadata": {},
     "output_type": "execute_result"
    }
   ],
   "source": [
    "data.columns"
   ]
  },
  {
   "cell_type": "code",
   "execution_count": 52,
   "id": "917aeac7-d63a-48e5-9129-e3d9e770a458",
   "metadata": {},
   "outputs": [
    {
     "data": {
      "text/plain": [
       "0        -d5dN54tH2E_0-1-rgb_front\n",
       "1        -d5dN54tH2E_1-1-rgb_front\n",
       "2       -d5dN54tH2E_10-1-rgb_front\n",
       "3       -d5dN54tH2E_11-1-rgb_front\n",
       "4       -d5dN54tH2E_12-1-rgb_front\n",
       "                   ...            \n",
       "1736     fyI1Ev5m1w4_5-8-rgb_front\n",
       "1737     fyI1Ev5m1w4_6-8-rgb_front\n",
       "1738     fyI1Ev5m1w4_7-8-rgb_front\n",
       "1739     fyI1Ev5m1w4_8-8-rgb_front\n",
       "1740     fyI1Ev5m1w4_9-8-rgb_front\n",
       "Name: SENTENCE_NAME, Length: 1741, dtype: object"
      ]
     },
     "execution_count": 52,
     "metadata": {},
     "output_type": "execute_result"
    }
   ],
   "source": [
    "data['SENTENCE_NAME']"
   ]
  },
  {
   "cell_type": "code",
   "execution_count": 53,
   "id": "1bdc9f61-cc5f-4a90-a24d-88fd016ca1b1",
   "metadata": {},
   "outputs": [
    {
     "data": {
      "text/plain": [
       "(1741, 7)"
      ]
     },
     "execution_count": 53,
     "metadata": {},
     "output_type": "execute_result"
    }
   ],
   "source": [
    "data.shape"
   ]
  },
  {
   "cell_type": "code",
   "execution_count": 54,
   "id": "a153d944-c26e-4ab7-94de-49a6287e7f1d",
   "metadata": {},
   "outputs": [],
   "source": [
    "def match_sentence(row):\n",
    "    return row['SENTENCE_NAME']==row['SENTENCE']"
   ]
  },
  {
   "cell_type": "code",
   "execution_count": 55,
   "id": "0abb7fd7-4ebc-46dc-86ea-51d5990c68c1",
   "metadata": {},
   "outputs": [],
   "source": [
    "data['Match']=data.apply(match_sentence, axis=1)"
   ]
  },
  {
   "cell_type": "code",
   "execution_count": 56,
   "id": "34494914-0ca8-45e0-8c85-2570ea0e7c64",
   "metadata": {},
   "outputs": [
    {
     "data": {
      "text/html": [
       "<div>\n",
       "<style scoped>\n",
       "    .dataframe tbody tr th:only-of-type {\n",
       "        vertical-align: middle;\n",
       "    }\n",
       "\n",
       "    .dataframe tbody tr th {\n",
       "        vertical-align: top;\n",
       "    }\n",
       "\n",
       "    .dataframe thead th {\n",
       "        text-align: right;\n",
       "    }\n",
       "</style>\n",
       "<table border=\"1\" class=\"dataframe\">\n",
       "  <thead>\n",
       "    <tr style=\"text-align: right;\">\n",
       "      <th></th>\n",
       "      <th>VIDEO_ID</th>\n",
       "      <th>VIDEO_NAME</th>\n",
       "      <th>SENTENCE_ID</th>\n",
       "      <th>SENTENCE_NAME</th>\n",
       "      <th>START_REALIGNED</th>\n",
       "      <th>END_REALIGNED</th>\n",
       "      <th>SENTENCE</th>\n",
       "      <th>Match</th>\n",
       "    </tr>\n",
       "  </thead>\n",
       "  <tbody>\n",
       "    <tr>\n",
       "      <th>0</th>\n",
       "      <td>-d5dN54tH2E</td>\n",
       "      <td>-d5dN54tH2E-1-rgb_front</td>\n",
       "      <td>-d5dN54tH2E_0</td>\n",
       "      <td>-d5dN54tH2E_0-1-rgb_front</td>\n",
       "      <td>12.97</td>\n",
       "      <td>19.52</td>\n",
       "      <td>We're going to work on a arm drill that will h...</td>\n",
       "      <td>False</td>\n",
       "    </tr>\n",
       "    <tr>\n",
       "      <th>1</th>\n",
       "      <td>-d5dN54tH2E</td>\n",
       "      <td>-d5dN54tH2E-1-rgb_front</td>\n",
       "      <td>-d5dN54tH2E_1</td>\n",
       "      <td>-d5dN54tH2E_1-1-rgb_front</td>\n",
       "      <td>20.65</td>\n",
       "      <td>24.28</td>\n",
       "      <td>I call it painting the wall.</td>\n",
       "      <td>False</td>\n",
       "    </tr>\n",
       "    <tr>\n",
       "      <th>2</th>\n",
       "      <td>-d5dN54tH2E</td>\n",
       "      <td>-d5dN54tH2E-1-rgb_front</td>\n",
       "      <td>-d5dN54tH2E_10</td>\n",
       "      <td>-d5dN54tH2E_10-1-rgb_front</td>\n",
       "      <td>85.50</td>\n",
       "      <td>87.83</td>\n",
       "      <td>So we're going to go up and down; let's switch...</td>\n",
       "      <td>False</td>\n",
       "    </tr>\n",
       "    <tr>\n",
       "      <th>3</th>\n",
       "      <td>-d5dN54tH2E</td>\n",
       "      <td>-d5dN54tH2E-1-rgb_front</td>\n",
       "      <td>-d5dN54tH2E_11</td>\n",
       "      <td>-d5dN54tH2E_11-1-rgb_front</td>\n",
       "      <td>87.84</td>\n",
       "      <td>93.62</td>\n",
       "      <td>And just let those fingers relax.</td>\n",
       "      <td>False</td>\n",
       "    </tr>\n",
       "    <tr>\n",
       "      <th>4</th>\n",
       "      <td>-d5dN54tH2E</td>\n",
       "      <td>-d5dN54tH2E-1-rgb_front</td>\n",
       "      <td>-d5dN54tH2E_12</td>\n",
       "      <td>-d5dN54tH2E_12-1-rgb_front</td>\n",
       "      <td>94.26</td>\n",
       "      <td>101.39</td>\n",
       "      <td>Now together you're going to go opposite.</td>\n",
       "      <td>False</td>\n",
       "    </tr>\n",
       "  </tbody>\n",
       "</table>\n",
       "</div>"
      ],
      "text/plain": [
       "      VIDEO_ID               VIDEO_NAME     SENTENCE_ID  \\\n",
       "0  -d5dN54tH2E  -d5dN54tH2E-1-rgb_front   -d5dN54tH2E_0   \n",
       "1  -d5dN54tH2E  -d5dN54tH2E-1-rgb_front   -d5dN54tH2E_1   \n",
       "2  -d5dN54tH2E  -d5dN54tH2E-1-rgb_front  -d5dN54tH2E_10   \n",
       "3  -d5dN54tH2E  -d5dN54tH2E-1-rgb_front  -d5dN54tH2E_11   \n",
       "4  -d5dN54tH2E  -d5dN54tH2E-1-rgb_front  -d5dN54tH2E_12   \n",
       "\n",
       "                SENTENCE_NAME  START_REALIGNED  END_REALIGNED  \\\n",
       "0   -d5dN54tH2E_0-1-rgb_front            12.97          19.52   \n",
       "1   -d5dN54tH2E_1-1-rgb_front            20.65          24.28   \n",
       "2  -d5dN54tH2E_10-1-rgb_front            85.50          87.83   \n",
       "3  -d5dN54tH2E_11-1-rgb_front            87.84          93.62   \n",
       "4  -d5dN54tH2E_12-1-rgb_front            94.26         101.39   \n",
       "\n",
       "                                            SENTENCE  Match  \n",
       "0  We're going to work on a arm drill that will h...  False  \n",
       "1                       I call it painting the wall.  False  \n",
       "2  So we're going to go up and down; let's switch...  False  \n",
       "3                  And just let those fingers relax.  False  \n",
       "4          Now together you're going to go opposite.  False  "
      ]
     },
     "execution_count": 56,
     "metadata": {},
     "output_type": "execute_result"
    }
   ],
   "source": [
    "data.head()"
   ]
  },
  {
   "cell_type": "code",
   "execution_count": 57,
   "id": "146b24c4-beeb-4cc5-80c8-8b8482def686",
   "metadata": {},
   "outputs": [
    {
     "data": {
      "text/html": [
       "<div>\n",
       "<style scoped>\n",
       "    .dataframe tbody tr th:only-of-type {\n",
       "        vertical-align: middle;\n",
       "    }\n",
       "\n",
       "    .dataframe tbody tr th {\n",
       "        vertical-align: top;\n",
       "    }\n",
       "\n",
       "    .dataframe thead th {\n",
       "        text-align: right;\n",
       "    }\n",
       "</style>\n",
       "<table border=\"1\" class=\"dataframe\">\n",
       "  <thead>\n",
       "    <tr style=\"text-align: right;\">\n",
       "      <th></th>\n",
       "      <th>SENTENCE_NAME</th>\n",
       "      <th>SENTENCE</th>\n",
       "      <th>Match</th>\n",
       "    </tr>\n",
       "  </thead>\n",
       "  <tbody>\n",
       "    <tr>\n",
       "      <th>0</th>\n",
       "      <td>-d5dN54tH2E_0-1-rgb_front</td>\n",
       "      <td>We're going to work on a arm drill that will h...</td>\n",
       "      <td>False</td>\n",
       "    </tr>\n",
       "    <tr>\n",
       "      <th>1</th>\n",
       "      <td>-d5dN54tH2E_1-1-rgb_front</td>\n",
       "      <td>I call it painting the wall.</td>\n",
       "      <td>False</td>\n",
       "    </tr>\n",
       "    <tr>\n",
       "      <th>2</th>\n",
       "      <td>-d5dN54tH2E_10-1-rgb_front</td>\n",
       "      <td>So we're going to go up and down; let's switch...</td>\n",
       "      <td>False</td>\n",
       "    </tr>\n",
       "    <tr>\n",
       "      <th>3</th>\n",
       "      <td>-d5dN54tH2E_11-1-rgb_front</td>\n",
       "      <td>And just let those fingers relax.</td>\n",
       "      <td>False</td>\n",
       "    </tr>\n",
       "    <tr>\n",
       "      <th>4</th>\n",
       "      <td>-d5dN54tH2E_12-1-rgb_front</td>\n",
       "      <td>Now together you're going to go opposite.</td>\n",
       "      <td>False</td>\n",
       "    </tr>\n",
       "  </tbody>\n",
       "</table>\n",
       "</div>"
      ],
      "text/plain": [
       "                SENTENCE_NAME  \\\n",
       "0   -d5dN54tH2E_0-1-rgb_front   \n",
       "1   -d5dN54tH2E_1-1-rgb_front   \n",
       "2  -d5dN54tH2E_10-1-rgb_front   \n",
       "3  -d5dN54tH2E_11-1-rgb_front   \n",
       "4  -d5dN54tH2E_12-1-rgb_front   \n",
       "\n",
       "                                            SENTENCE  Match  \n",
       "0  We're going to work on a arm drill that will h...  False  \n",
       "1                       I call it painting the wall.  False  \n",
       "2  So we're going to go up and down; let's switch...  False  \n",
       "3                  And just let those fingers relax.  False  \n",
       "4          Now together you're going to go opposite.  False  "
      ]
     },
     "execution_count": 57,
     "metadata": {},
     "output_type": "execute_result"
    }
   ],
   "source": [
    "df=data[['SENTENCE_NAME','SENTENCE','Match']]\n",
    "df.head()"
   ]
  },
  {
   "cell_type": "code",
   "execution_count": 58,
   "id": "84380681-5a60-4fc0-ad15-940c949b507c",
   "metadata": {},
   "outputs": [],
   "source": [
    "X=data['SENTENCE_NAME']\n",
    "Y=data['SENTENCE']"
   ]
  },
  {
   "cell_type": "code",
   "execution_count": 59,
   "id": "1f7b3377-6faf-4e62-b68c-9ae7a8f3b54a",
   "metadata": {},
   "outputs": [
    {
     "data": {
      "text/plain": [
       "0     -d5dN54tH2E_0-1-rgb_front\n",
       "1     -d5dN54tH2E_1-1-rgb_front\n",
       "2    -d5dN54tH2E_10-1-rgb_front\n",
       "3    -d5dN54tH2E_11-1-rgb_front\n",
       "4    -d5dN54tH2E_12-1-rgb_front\n",
       "Name: SENTENCE_NAME, dtype: object"
      ]
     },
     "execution_count": 59,
     "metadata": {},
     "output_type": "execute_result"
    }
   ],
   "source": [
    "X.head()"
   ]
  },
  {
   "cell_type": "code",
   "execution_count": 60,
   "id": "b37e9103-8639-4a78-82f2-6a4070c348e0",
   "metadata": {},
   "outputs": [
    {
     "data": {
      "text/plain": [
       "0    We're going to work on a arm drill that will h...\n",
       "1                         I call it painting the wall.\n",
       "2    So we're going to go up and down; let's switch...\n",
       "3                    And just let those fingers relax.\n",
       "4            Now together you're going to go opposite.\n",
       "Name: SENTENCE, dtype: object"
      ]
     },
     "execution_count": 60,
     "metadata": {},
     "output_type": "execute_result"
    }
   ],
   "source": [
    "Y.head()"
   ]
  },
  {
   "cell_type": "code",
   "execution_count": null,
   "id": "8b557acd-60f2-46ed-87e6-d791648eaebf",
   "metadata": {},
   "outputs": [],
   "source": []
  }
 ],
 "metadata": {
  "kernelspec": {
   "display_name": "Python 3 (ipykernel)",
   "language": "python",
   "name": "python3"
  },
  "language_info": {
   "codemirror_mode": {
    "name": "ipython",
    "version": 3
   },
   "file_extension": ".py",
   "mimetype": "text/x-python",
   "name": "python",
   "nbconvert_exporter": "python",
   "pygments_lexer": "ipython3",
   "version": "3.11.2"
  }
 },
 "nbformat": 4,
 "nbformat_minor": 5
}

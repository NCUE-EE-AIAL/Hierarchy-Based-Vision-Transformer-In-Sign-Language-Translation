{
 "cells": [
  {
   "cell_type": "code",
   "execution_count": null,
   "id": "763f1062",
   "metadata": {},
   "outputs": [],
   "source": []
  },
  {
   "cell_type": "code",
   "execution_count": 8,
   "id": "4d2ea44d",
   "metadata": {
    "ExecuteTime": {
     "end_time": "2024-06-26T01:50:04.579055900Z",
     "start_time": "2024-06-26T01:50:04.561049800Z"
    }
   },
   "outputs": [],
   "source": [
    "import os\n",
    "import json\n",
    "from multiprocessing import Pool\n",
    "from glob import glob"
   ]
  },
  {
   "cell_type": "code",
   "execution_count": null,
   "id": "2f069423",
   "metadata": {
    "is_executing": true,
    "ExecuteTime": {
     "start_time": "2024-06-26T01:50:06.249050700Z"
    }
   },
   "outputs": [],
   "source": [
    "import os\n",
    "import json\n",
    "from multiprocessing import Pool\n",
    "from glob import glob\n",
    "\n",
    "# Define indices for the required keypoints\n",
    "hand_indices = list(range(21))\n",
    "pose_indices = [0, 1, 2, 3, 4, 5, 6, 7, 17, 18]  # nose, neck, shoulders, elbows, wrists\n",
    "mouth_indices = [48, 49, 50, 51, 52]  # typical mouth indices\n",
    "eyes_indices = [36, 39, 42, 45]  # left and right eye indices\n",
    "\n",
    "\n",
    "def find_files(directory, pattern='**/*.json'):\n",
    "\t\"\"\"Recursively finds all files matching the pattern.\"\"\"\n",
    "\treturn glob(os.path.join(directory, pattern), recursive=True)\n",
    "\n",
    "\n",
    "def reduce_keypoints(person):\n",
    "\treduced_person = {\n",
    "\t\t\"person_id\": person.get(\"person_id\", [-1]),\n",
    "\t\t\"hand_left_keypoints_2d\": [person[\"hand_left_keypoints_2d\"][i * 3:(i * 3) + 3] for i in hand_indices],\n",
    "\t\t\"hand_right_keypoints_2d\": [person[\"hand_right_keypoints_2d\"][i * 3:(i * 3) + 3] for i in hand_indices],\n",
    "\t\t'pose_keypoints_2d': [person['pose_keypoints_2d'][i * 3:(i * 3) + 3] for i in pose_indices]\n",
    "\t}\n",
    "\n",
    "\t# Add left eye points\n",
    "\tfor i in eyes_indices:\n",
    "\t\treduced_person[\"face_keypoints_2d\"].extend(person[\"face_keypoints_2d\"][i * 3:(i * 3) + 3])\n",
    "\tfor i in mouth_indices:\n",
    "\t\treduced_person[\"face_keypoints_2d\"].extend(person[\"face_keypoints_2d\"][i * 3:(i * 3) + 3])\n",
    "\n",
    "\n",
    "\treturn reduced_person\n",
    "\n",
    "\n",
    "# Function to read and process JSON files in a directory\n",
    "def combine_frame(input_dir):\n",
    "\tall_people = []\n",
    "\tfiles_path = find_files(input_dir, pattern='**/*.json')\n",
    "\tfor file_path in files_path:\n",
    "\t\twith open(file_path, 'r') as file:\n",
    "\t\t\tdata = json.load(file)\n",
    "\t\t\tfor person in data[\"people\"]:\n",
    "\t\t\t\treduced_person = reduce_keypoints(person)\n",
    "\t\t\t\tall_people.append(reduced_person)\n",
    "\n",
    "\treturn all_people\n",
    "\n",
    "\n",
    "def extract_json(output_dir, input_dir):\n",
    "\tfilename = os.path.basename(input_dir)\n",
    "\toutput_file = os.path.join(output_dir, f'{filename}.json')\n",
    "\n",
    "\t# Process the files in the subfolder and merge the results\n",
    "\tmerged_data = {\"version\": 1.3, \"people\": combine_frame(input_dir)}\n",
    "\n",
    "\t# Save the merged data to a JSON file in the output directory\n",
    "\twith open(output_file, 'w') as out_file:\n",
    "\t\tjson.dump(merged_data, out_file, indent=4)\n",
    "\n",
    "\tprint(f'Merged and reduced JSON saved to {output_file}')\n",
    "\n",
    "\n",
    "def prep(main_dir, output_dir, num_workers=4):\n",
    "\t# Loop through each subfolder in the main directory\n",
    "\tsubfolders_path = [os.path.join(main_dir, subfolder) for subfolder in os.listdir(main_dir)]\n",
    "\twith Pool(num_workers) as pool:\n",
    "\t\tpool.starmap(extract_json, [(output_dir, subfolder_path) for subfolder_path in subfolders_path])\n"
   ]
  },
  {
   "cell_type": "code",
   "outputs": [],
   "source": [
    "if __name__ == '__main__':\n",
    "\t# Prompt the user to enter the path of the folder containing subfolders of JSON files\n",
    "\tmain_directory = input(\"Enter the path to the main folder containing subfolders with JSON files: \")\n",
    "\n",
    "\t# Prompt the user to enter the path where the reduced and merged JSON files will be saved\n",
    "\toutput_directory = input(\"Enter the path where the reduced and merged JSON files will be saved: \")\n",
    "\n",
    "\tprep(main_directory, output_directory)"
   ],
   "metadata": {
    "collapsed": false
   },
   "id": "5d3f1baef1edc488"
  }
 ],
 "metadata": {
  "kernelspec": {
   "display_name": "Python 3 (ipykernel)",
   "language": "python",
   "name": "python3"
  },
  "language_info": {
   "codemirror_mode": {
    "name": "ipython",
    "version": 3
   },
   "file_extension": ".py",
   "mimetype": "text/x-python",
   "name": "python",
   "nbconvert_exporter": "python",
   "pygments_lexer": "ipython3",
   "version": "3.11.3"
  }
 },
 "nbformat": 4,
 "nbformat_minor": 5
}

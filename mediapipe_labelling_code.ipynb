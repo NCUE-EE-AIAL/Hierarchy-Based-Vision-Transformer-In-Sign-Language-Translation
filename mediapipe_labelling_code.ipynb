{
 "cells": [
  {
   "cell_type": "markdown",
   "id": "0b6461cc",
   "metadata": {},
   "source": [
    "\n",
    "File Name: mediapipe_labelling_code.py\n",
    "Description: This file contains a simple code for extracting a landmarks from a video and then, it saves the new video with landmarks at a specified location.\n",
    "\n",
    "Email:potnurupavan51@gmail.com\n",
    "Date: 2024-06-07\n",
    "\n",
    "Project Name: Sign language translation\n",
    "\n",
    "Dependencies:\n",
    "- openCV (perferably cv2)(used for capturing the image\\video data and process)\n",
    "- mediapipe(used to extract the landmarks)\n",
    "- os(which enables the hardware components of the device used)\n",
    "\n",
    "Revision History:\n",
    "- 2024-06-03: Initiation.\n",
    "- 2024-06-06: Added new features and fixed bugs.\n",
    "\n",
    "Usage Instructions:\n",
    "- Run this file using Python 3.x.\n",
    "- Ensure all dependencies are installed."
   ]
  },
  {
   "cell_type": "code",
   "execution_count": 2,
   "id": "29a0f7d3",
   "metadata": {
    "ExecuteTime": {
     "end_time": "2024-06-10T15:02:09.189887800Z",
     "start_time": "2024-06-10T15:02:08.035889700Z"
    }
   },
   "outputs": [
    {
     "name": "stdout",
     "output_type": "stream",
     "text": [
      "Video FPS: 25.0, Width: 480, Height: 360\n"
     ]
    },
    {
     "ename": "AttributeError",
     "evalue": "'FaceMesh' object has no attribute 'shape'",
     "output_type": "error",
     "traceback": [
      "\u001B[1;31m---------------------------------------------------------------------------\u001B[0m",
      "\u001B[1;31mAttributeError\u001B[0m                            Traceback (most recent call last)",
      "Cell \u001B[1;32mIn[2], line 33\u001B[0m\n\u001B[0;32m     31\u001B[0m hands \u001B[38;5;241m=\u001B[39m mp_hands\u001B[38;5;241m.\u001B[39mHands(static_image_mode\u001B[38;5;241m=\u001B[39m\u001B[38;5;28;01mFalse\u001B[39;00m, max_num_hands\u001B[38;5;241m=\u001B[39m\u001B[38;5;241m2\u001B[39m, min_detection_confidence\u001B[38;5;241m=\u001B[39m\u001B[38;5;241m0.5\u001B[39m, min_tracking_confidence\u001B[38;5;241m=\u001B[39m\u001B[38;5;241m0.5\u001B[39m)\n\u001B[0;32m     32\u001B[0m pose \u001B[38;5;241m=\u001B[39m mp_pose\u001B[38;5;241m.\u001B[39mPose(static_image_mode\u001B[38;5;241m=\u001B[39m\u001B[38;5;28;01mFalse\u001B[39;00m, min_detection_confidence\u001B[38;5;241m=\u001B[39m\u001B[38;5;241m0.5\u001B[39m, min_tracking_confidence\u001B[38;5;241m=\u001B[39m\u001B[38;5;241m0.5\u001B[39m)\n\u001B[1;32m---> 33\u001B[0m \u001B[43mface_mesh\u001B[49m\u001B[38;5;241;43m.\u001B[39;49m\u001B[43mshape\u001B[49m()\n\u001B[0;32m     34\u001B[0m hands\u001B[38;5;241m.\u001B[39mshape()\n\u001B[0;32m     35\u001B[0m pose\u001B[38;5;241m.\u001B[39mshape()\n",
      "\u001B[1;31mAttributeError\u001B[0m: 'FaceMesh' object has no attribute 'shape'"
     ]
    }
   ],
   "source": [
    "import cv2\n",
    "import mediapipe as mp\n",
    "import os\n",
    " \n",
    "# setting the mediapipe solutions\n",
    "mp_holistic = mp.solutions.holistic\n",
    "mp_drawing = mp.solutions.drawing_utils\n",
    "mp_drawing_styles = mp.solutions.drawing_styles\n",
    "mp_face_mesh = mp.solutions.face_mesh\n",
    "mp_hands = mp.solutions.hands\n",
    "mp_pose = mp.solutions.pose\n",
    "\n",
    "# Capturing video\n",
    "cap = cv2.VideoCapture('test_for_extraction/FAIL.mp4') #preferably use the complete path of the file for comprehension.\n",
    "if not cap.isOpened():\n",
    "    print(\"Error: Could not open video file.\")\n",
    "    exit()\n",
    "\n",
    "fps = cap.get(cv2.CAP_PROP_FPS)\n",
    "frame_width = int(cap.get(cv2.CAP_PROP_FRAME_WIDTH))\n",
    "frame_height = int(cap.get(cv2.CAP_PROP_FRAME_HEIGHT))\n",
    "\n",
    "print(f\"Video FPS: {fps}, Width: {frame_width}, Height: {frame_height}\")\n",
    "\n",
    "# Define the codec and create VideoWriter object\n",
    "fourcc = cv2.VideoWriter_fourcc(*'mp4v')  # You can use other codecs like 'XVID', 'DIVX', etc.\n",
    "out = cv2.VideoWriter(r'output_test_for_extraction/output_with_landmarks.mp4', fourcc, fps, (frame_width, frame_height))\n",
    "\n",
    "# Init ialize solutions\n",
    "face_mesh = mp_face_mesh.FaceMesh(static_image_mode=False, max_num_faces=1, min_detection_confidence=0.5, min_tracking_confidence=0.5)\n",
    "hands = mp_hands.Hands(static_image_mode=False, max_num_hands=2, min_detection_confidence=0.5, min_tracking_confidence=0.5)\n",
    "pose = mp_pose.Pose(static_image_mode=False, min_detection_confidence=0.5, min_tracking_confidence=0.5)\n",
    "\n",
    "while cap.isOpened():\n",
    "    success,image = cap.read()\n",
    "    if not success:\n",
    "        print(\"Error: Could not read frame.\")\n",
    "        break\n",
    "\n",
    "    # Check if the frame was correctly captured\n",
    "    if image is None:\n",
    "        print(\"Error: Frame is None.\")\n",
    "        break\n",
    "\n",
    "    # Convert the BGR image to RGB, as it defaulty converts it to BGR\n",
    "    image_rgb = cv2.cvtColor(image, cv2.COLOR_BGR2RGB)\n",
    "\n",
    "    # Processing all\n",
    "    face_results = face_mesh.process(image_rgb)\n",
    "    hands_results = hands.process(image_rgb)\n",
    "    pose_results = pose.process(image_rgb)\n",
    "\n",
    "    # Drawing landmarks of face\n",
    "    if face_results.multi_face_landmarks:\n",
    "        for face_landmarks in face_results.multi_face_landmarks:\n",
    "            mp_drawing.draw_landmarks(\n",
    "                image=image,\n",
    "                landmark_list=face_landmarks,\n",
    "                connections=mp_face_mesh.FACEMESH_TESSELATION,\n",
    "                landmark_drawing_spec=None,\n",
    "                connection_drawing_spec=mp_drawing_styles.get_default_face_mesh_tesselation_style()\n",
    "            )     \n",
    "\n",
    "    # Draw the hand landmarks\n",
    "    if hands_results.multi_hand_landmarks:\n",
    "        for hand_landmarks in hands_results.multi_hand_landmarks:\n",
    "            mp_drawing.draw_landmarks(\n",
    "                image=image,\n",
    "                landmark_list=hand_landmarks,\n",
    "                connections=mp_hands.HAND_CONNECTIONS,\n",
    "                landmark_drawing_spec=mp_drawing_styles.get_default_hand_landmarks_style(),\n",
    "                connection_drawing_spec=mp_drawing_styles.get_default_hand_connections_style()\n",
    "            )\n",
    "\n",
    "    # Draw the pose landmarks\n",
    "    if pose_results.pose_landmarks:\n",
    "        mp_drawing.draw_landmarks(\n",
    "            image=image,\n",
    "            landmark_list=pose_results.pose_landmarks,\n",
    "            connections=mp_pose.POSE_CONNECTIONS,\n",
    "            landmark_drawing_spec=mp_drawing_styles.get_default_pose_landmarks_style()\n",
    "        )\n",
    "\n",
    "    out.write(image)\n",
    "\n",
    "    cv2.imshow('MediaPipe Face, Hand, and Pose', image)\n",
    "\n",
    "    # Break the loop on 'q' key press\n",
    "    if cv2.waitKey(100) & 0xFF == ord('q'):\n",
    "        break\n",
    "#close all if finished\n",
    "cap.release()\n",
    "out.release()\n",
    "cv2.destroyAllWindows()\n"
   ]
  },
  {
   "cell_type": "code",
   "execution_count": null,
   "id": "a5bb3241",
   "metadata": {},
   "outputs": [],
   "source": []
  },
  {
   "cell_type": "code",
   "execution_count": null,
   "id": "23142087",
   "metadata": {},
   "outputs": [],
   "source": []
  }
 ],
 "metadata": {
  "kernelspec": {
   "display_name": "Python 3 (ipykernel)",
   "language": "python",
   "name": "python3"
  },
  "language_info": {
   "codemirror_mode": {
    "name": "ipython",
    "version": 3
   },
   "file_extension": ".py",
   "mimetype": "text/x-python",
   "name": "python",
   "nbconvert_exporter": "python",
   "pygments_lexer": "ipython3",
   "version": "3.11.5"
  }
 },
 "nbformat": 4,
 "nbformat_minor": 5
}
